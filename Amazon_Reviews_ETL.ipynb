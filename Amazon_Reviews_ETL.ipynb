{
  "nbformat": 4,
  "nbformat_minor": 0,
  "metadata": {
    "colab": {
      "name": "Amazon_Reviews_ETL.ipynb",
      "provenance": [],
      "collapsed_sections": []
    },
    "kernelspec": {
      "name": "python3",
      "display_name": "Python 3"
    },
    "nteract": {
      "version": "0.12.3"
    },
    "language_info": {
      "name": "python"
    }
  },
  "cells": [
    {
      "cell_type": "code",
      "metadata": {
        "id": "V58rxea0HqSa",
        "colab": {
          "base_uri": "https://localhost:8080/"
        },
        "outputId": "bfdb5aff-d8fb-455b-b928-104f57929d77"
      },
      "source": [
        "import os\n",
        "# Find the latest version of spark 3.0 from http://www.apache.org/dist/spark/ and enter as the spark version\n",
        "# For example:\n",
        "# spark_version = 'spark-3.0.3'\n",
        "spark_version = 'spark-3.0.3'\n",
        "os.environ['SPARK_VERSION']=spark_version\n",
        "\n",
        "# Install Spark and Java\n",
        "!apt-get update\n",
        "!apt-get install openjdk-11-jdk-headless -qq > /dev/null\n",
        "!wget -q http://www.apache.org/dist/spark/$SPARK_VERSION/$SPARK_VERSION-bin-hadoop2.7.tgz\n",
        "!tar xf $SPARK_VERSION-bin-hadoop2.7.tgz\n",
        "!pip install -q findspark\n",
        "\n",
        "# Set Environment Variables\n",
        "import os\n",
        "os.environ[\"JAVA_HOME\"] = \"/usr/lib/jvm/java-11-openjdk-amd64\"\n",
        "os.environ[\"SPARK_HOME\"] = f\"/content/{spark_version}-bin-hadoop2.7\"\n",
        "\n",
        "# Start a SparkSession\n",
        "import findspark\n",
        "findspark.init()"
      ],
      "execution_count": 1,
      "outputs": [
        {
          "output_type": "stream",
          "name": "stdout",
          "text": [
            "\r0% [Working]\r            \rGet:1 https://cloud.r-project.org/bin/linux/ubuntu bionic-cran40/ InRelease [3,626 B]\n",
            "\r0% [Connecting to archive.ubuntu.com] [Connecting to security.ubuntu.com (185.1\r0% [Connecting to archive.ubuntu.com] [Connecting to security.ubuntu.com (185.1\r0% [1 InRelease gpgv 3,626 B] [Connecting to archive.ubuntu.com] [Connecting to\r                                                                               \rHit:2 http://archive.ubuntu.com/ubuntu bionic InRelease\n",
            "\r0% [1 InRelease gpgv 3,626 B] [Waiting for headers] [Waiting for headers] [Wait\r                                                                               \rGet:3 http://archive.ubuntu.com/ubuntu bionic-updates InRelease [88.7 kB]\n",
            "\r0% [1 InRelease gpgv 3,626 B] [3 InRelease 14.2 kB/88.7 kB 16%] [Waiting for he\r                                                                               \rIgn:4 https://developer.download.nvidia.com/compute/cuda/repos/ubuntu1804/x86_64  InRelease\n",
            "\r0% [1 InRelease gpgv 3,626 B] [3 InRelease 14.2 kB/88.7 kB 16%] [Waiting for he\r0% [1 InRelease gpgv 3,626 B] [Waiting for headers] [Waiting for headers] [Wait\r                                                                               \rGet:5 http://security.ubuntu.com/ubuntu bionic-security InRelease [88.7 kB]\n",
            "\r0% [1 InRelease gpgv 3,626 B] [Waiting for headers] [5 InRelease 14.2 kB/88.7 k\r                                                                               \rGet:6 http://ppa.launchpad.net/c2d4u.team/c2d4u4.0+/ubuntu bionic InRelease [15.9 kB]\n",
            "Get:7 http://archive.ubuntu.com/ubuntu bionic-backports InRelease [74.6 kB]\n",
            "Ign:8 https://developer.download.nvidia.com/compute/machine-learning/repos/ubuntu1804/x86_64  InRelease\n",
            "Get:9 https://developer.download.nvidia.com/compute/cuda/repos/ubuntu1804/x86_64  Release [696 B]\n",
            "Hit:10 https://developer.download.nvidia.com/compute/machine-learning/repos/ubuntu1804/x86_64  Release\n",
            "Get:11 https://developer.download.nvidia.com/compute/cuda/repos/ubuntu1804/x86_64  Release.gpg [836 B]\n",
            "Get:12 https://cloud.r-project.org/bin/linux/ubuntu bionic-cran40/ Packages [82.3 kB]\n",
            "Hit:13 http://ppa.launchpad.net/cran/libgit2/ubuntu bionic InRelease\n",
            "Get:14 http://ppa.launchpad.net/deadsnakes/ppa/ubuntu bionic InRelease [15.9 kB]\n",
            "Get:15 http://ppa.launchpad.net/graphics-drivers/ppa/ubuntu bionic InRelease [21.3 kB]\n",
            "Get:16 http://archive.ubuntu.com/ubuntu bionic-updates/restricted amd64 Packages [918 kB]\n",
            "Get:17 http://archive.ubuntu.com/ubuntu bionic-updates/multiverse amd64 Packages [29.8 kB]\n",
            "Get:18 http://archive.ubuntu.com/ubuntu bionic-updates/main amd64 Packages [3,133 kB]\n",
            "Get:19 http://archive.ubuntu.com/ubuntu bionic-updates/universe amd64 Packages [2,267 kB]\n",
            "Get:20 http://archive.ubuntu.com/ubuntu bionic-backports/universe amd64 Packages [12.9 kB]\n",
            "Get:21 http://archive.ubuntu.com/ubuntu bionic-backports/main amd64 Packages [12.2 kB]\n",
            "Get:23 http://ppa.launchpad.net/c2d4u.team/c2d4u4.0+/ubuntu bionic/main Sources [1,831 kB]\n",
            "Get:24 https://developer.download.nvidia.com/compute/cuda/repos/ubuntu1804/x86_64  Packages [951 kB]\n",
            "Get:25 http://ppa.launchpad.net/c2d4u.team/c2d4u4.0+/ubuntu bionic/main amd64 Packages [938 kB]\n",
            "Get:26 http://security.ubuntu.com/ubuntu bionic-security/universe amd64 Packages [1,489 kB]\n",
            "Get:27 http://security.ubuntu.com/ubuntu bionic-security/restricted amd64 Packages [884 kB]\n",
            "Get:28 http://security.ubuntu.com/ubuntu bionic-security/main amd64 Packages [2,693 kB]\n",
            "Get:29 http://ppa.launchpad.net/deadsnakes/ppa/ubuntu bionic/main amd64 Packages [45.2 kB]\n",
            "Get:30 http://ppa.launchpad.net/graphics-drivers/ppa/ubuntu bionic/main amd64 Packages [44.3 kB]\n",
            "Fetched 15.6 MB in 14s (1,092 kB/s)\n",
            "Reading package lists... Done\n"
          ]
        }
      ]
    },
    {
      "cell_type": "code",
      "metadata": {
        "id": "_xKwTpATHqSe",
        "colab": {
          "base_uri": "https://localhost:8080/"
        },
        "outputId": "11929bea-8ff8-4bb0-d760-c913b6b22ea0"
      },
      "source": [
        "# Download the Postgres driver that will allow Spark to interact with Postgres.\n",
        "!wget https://jdbc.postgresql.org/download/postgresql-42.2.16.jar"
      ],
      "execution_count": 2,
      "outputs": [
        {
          "output_type": "stream",
          "name": "stdout",
          "text": [
            "--2022-04-06 19:01:06--  https://jdbc.postgresql.org/download/postgresql-42.2.16.jar\n",
            "Resolving jdbc.postgresql.org (jdbc.postgresql.org)... 72.32.157.228, 2001:4800:3e1:1::228\n",
            "Connecting to jdbc.postgresql.org (jdbc.postgresql.org)|72.32.157.228|:443... connected.\n",
            "HTTP request sent, awaiting response... 200 OK\n",
            "Length: 1002883 (979K) [application/java-archive]\n",
            "Saving to: ‘postgresql-42.2.16.jar’\n",
            "\n",
            "postgresql-42.2.16. 100%[===================>] 979.38K  5.63MB/s    in 0.2s    \n",
            "\n",
            "2022-04-06 19:01:07 (5.63 MB/s) - ‘postgresql-42.2.16.jar’ saved [1002883/1002883]\n",
            "\n"
          ]
        }
      ]
    },
    {
      "cell_type": "code",
      "metadata": {
        "id": "MMqDAjVS0KN9"
      },
      "source": [
        "from pyspark.sql import SparkSession\n",
        "spark = SparkSession.builder.appName(\"M16-Amazon-Challenge\").config(\"spark.driver.extraClassPath\",\"/content/postgresql-42.2.16.jar\").getOrCreate()"
      ],
      "execution_count": 3,
      "outputs": []
    },
    {
      "cell_type": "markdown",
      "metadata": {
        "id": "cyBsySGuY-9V"
      },
      "source": [
        "### Load Amazon Data into Spark DataFrame"
      ]
    },
    {
      "cell_type": "code",
      "metadata": {
        "id": "CtCmBhQJY-9Z",
        "colab": {
          "base_uri": "https://localhost:8080/"
        },
        "outputId": "1c2ae63f-3058-4ddf-8094-50baa58c281f"
      },
      "source": [
        "from pyspark import SparkFiles\n",
        "url = \"https://s3.amazonaws.com/amazon-reviews-pds/tsv/amazon_reviews_us_Grocery_v1_00.tsv.gz\"\n",
        "spark.sparkContext.addFile(url)\n",
        "df = spark.read.option(\"encoding\", \"UTF-8\").csv(SparkFiles.get(\"\"), sep=\"\\t\", header=True, inferSchema=True)\n",
        "df.show()"
      ],
      "execution_count": 4,
      "outputs": [
        {
          "output_type": "stream",
          "name": "stdout",
          "text": [
            "+-----------+-----------+--------------+----------+--------------+--------------------+----------------+-----------+-------------+-----------+----+-----------------+--------------------+--------------------+-----------+\n",
            "|marketplace|customer_id|     review_id|product_id|product_parent|       product_title|product_category|star_rating|helpful_votes|total_votes|vine|verified_purchase|     review_headline|         review_body|review_date|\n",
            "+-----------+-----------+--------------+----------+--------------+--------------------+----------------+-----------+-------------+-----------+----+-----------------+--------------------+--------------------+-----------+\n",
            "|         US|   42521656|R26MV8D0KG6QI6|B000SAQCWC|     159713740|The Cravings Plac...|         Grocery|          5|            0|          0|   N|                Y|Using these for y...|As a family aller...| 2015-08-31|\n",
            "|         US|   12049833|R1OF8GP57AQ1A0|B00509LVIQ|     138680402|Mauna Loa Macadam...|         Grocery|          5|            0|          0|   N|                Y|           Wonderful|My favorite nut. ...| 2015-08-31|\n",
            "|         US|     107642|R3VDC1QB6MC4ZZ|B00KHXESLC|     252021703|Organic Matcha Gr...|         Grocery|          5|            0|          0|   N|                N|          Five Stars|This green tea ta...| 2015-08-31|\n",
            "|         US|    6042304|R12FA3DCF8F9ER|B000F8JIIC|     752728342|15oz Raspberry Ly...|         Grocery|          5|            0|          0|   N|                Y|          Five Stars|I love Melissa's ...| 2015-08-31|\n",
            "|         US|   18123821| RTWHVNV6X4CNJ|B004ZWR9RQ|     552138758|Stride Spark Kine...|         Grocery|          5|            0|          0|   N|                Y|          Five Stars|                good| 2015-08-31|\n",
            "|         US|   23649464| RIG9AWFOGRDVO|B00AL6QBZ6|     681475449|Herr's Popcorn Ho...|         Grocery|          2|            1|          1|   N|                Y|           Not Happy|The popcorn was s...| 2015-08-31|\n",
            "|         US|   32778285|R1S1XSG4ZCHDGS|B00BCNSTRA|     578681693|Larabar uber, 1.4...|         Grocery|          5|            1|          1|   N|                Y|          Five Stars|Love these bars, ...| 2015-08-31|\n",
            "|         US|   46612941| RB15NBVY5ELVW|B0089MM2BG|     350968436|Shirakiku Soba No...|         Grocery|          5|            2|          2|   N|                Y|          Five Stars|Love the taste bu...| 2015-08-31|\n",
            "|         US|   31525399| R56358YM1ZJ7I|B00Y1C9770|     729982780|Jif Chocolate Nut...|         Grocery|          5|            0|          0|   N|                N|      Great tasting!|I'm a member of t...| 2015-08-31|\n",
            "|         US|   19624355|R1ODXB3C9UP3NL|B00J074W94|       2499702|Orgain Organic Pl...|         Grocery|          1|            1|          3|   N|                N|Disgusting now an...|Used to be a dece...| 2015-08-31|\n",
            "|         US|   31910375|R155ZMVLD5C9BP|B0001VKKOO|     189938205|Bragg - All Natur...|         Grocery|          4|            3|          4|   N|                Y|If you like soy s...|I cannot tell the...| 2015-08-31|\n",
            "|         US|   12816533|R2IXW43PUNYM0G|B007TGH4CK|     398128262|Wholesome Sweeten...|         Grocery|          4|            1|          1|   N|                Y|          Four Stars|Good flavor and s...| 2015-08-31|\n",
            "|         US|   23208852|R3LYEG1QCK2BG0|B002HMN6SC|      18057786|Kadoya Pure Sesam...|         Grocery|          5|            0|          0|   N|                Y|          Five Stars|Great to use in r...| 2015-08-31|\n",
            "|         US|   17348415|R20LREICPM3YH0|B004NRHAZO|     595020880|Nishiki Premium B...|         Grocery|          5|            0|          0|   N|                Y|          Five Stars|It's rice. Have e...| 2015-08-31|\n",
            "|         US|   46763945| RHA5COCZDVB13|B00V7LJIG8|     173088090|Everly Passion Fr...|         Grocery|          5|            0|          0|   N|                Y|          Five Stars|Very good tasting...| 2015-08-31|\n",
            "|         US|     961747| RT9BGRQANMANE|B0000E2YFI|     120269621|Charms Blue Razzb...|         Grocery|          5|            0|          0|   N|                Y|           Excellent|They were perfect...| 2015-08-31|\n",
            "|         US|   16888081| ROD1TU5JCS7JQ|B00VK5SQOQ|     204992966|Food Should Taste...|         Grocery|          5|            0|          0|   N|                N|              YUMMY!|Wow, these are so...| 2015-08-31|\n",
            "|         US|   22765168|R3T6TTD2IN0EFZ|B00XDXMLL2|     971154239|Skippy Creamy Pea...|         Grocery|          1|            4|          4|   N|                N|1 Out Of 5 Of My ...|I bought this fro...| 2015-08-31|\n",
            "|         US|   36328996|R1OCUGZ444NKV3|B00MN4KX3A|     787182505|Celestial Seasoni...|         Grocery|          5|            5|          5|   N|                Y|delicious tea and...|I love this tea, ...| 2015-08-31|\n",
            "|         US|   27092724| RCQQGWTC4J4TZ|B004NTCE1M|     653570135|Nutiva Organic Vi...|         Grocery|          4|            0|          0|   N|                Y|    Best coconut oil|I have used servo...| 2015-08-31|\n",
            "+-----------+-----------+--------------+----------+--------------+--------------------+----------------+-----------+-------------+-----------+----+-----------------+--------------------+--------------------+-----------+\n",
            "only showing top 20 rows\n",
            "\n"
          ]
        }
      ]
    },
    {
      "cell_type": "markdown",
      "metadata": {
        "id": "2yUSe55VY-9t"
      },
      "source": [
        "### Create DataFrames to match tables"
      ]
    },
    {
      "cell_type": "code",
      "metadata": {
        "id": "C8REmY1aY-9u"
      },
      "source": [
        "from pyspark.sql.functions import to_date\n",
        "# Read in the Review dataset as a DataFrame\n"
      ],
      "execution_count": 5,
      "outputs": []
    },
    {
      "cell_type": "code",
      "metadata": {
        "id": "B0TESUDRY-90"
      },
      "source": [
        "# Create the customers_table DataFrame\n",
        "customers_df = df.groupby(\"customer_id\").agg({\"*\":\"count\"}).withColumnRenamed(\"count(1)\", \"customer_count\")"
      ],
      "execution_count": 22,
      "outputs": []
    },
    {
      "cell_type": "code",
      "metadata": {
        "id": "4FwXA6UvY-96"
      },
      "source": [
        "# Create the products_table DataFrame and drop duplicates. \n",
        "products_df = df.select(['product_id', 'product_title']).drop_duplicates(['product_id'])"
      ],
      "execution_count": 44,
      "outputs": []
    },
    {
      "cell_type": "code",
      "metadata": {
        "id": "MkqyCuNQY-9-"
      },
      "source": [
        "# Create the review_id_table DataFrame. \n",
        "# Convert the 'review_date' column to a date datatype with to_date(\"review_date\", 'yyyy-MM-dd').alias(\"review_date\")\n",
        "review_id_df = df.select(['review_id', 'customer_id', 'product_id', 'product_parent', to_date(\"review_date\", 'yyyy-MM-dd').alias(\"review_date\")])"
      ],
      "execution_count": 11,
      "outputs": []
    },
    {
      "cell_type": "code",
      "metadata": {
        "id": "lzMmkdKmY--D"
      },
      "source": [
        "# Create the vine_table. DataFrame\n",
        "vine_df = df.select(['review_id', 'star_rating', 'helpful_votes', 'total_votes', 'vine', 'verified_purchase'])"
      ],
      "execution_count": 12,
      "outputs": []
    },
    {
      "cell_type": "code",
      "source": [
        "products_df.groupBy('product_id').agg({\"*\":\"count\"}).sort(\"count(1)\", ascending=False).show()"
      ],
      "metadata": {
        "colab": {
          "base_uri": "https://localhost:8080/"
        },
        "id": "30avuDJuUVso",
        "outputId": "5831cc0b-0dc9-4a3f-b76a-17a045b33ad3"
      },
      "execution_count": 45,
      "outputs": [
        {
          "output_type": "stream",
          "name": "stdout",
          "text": [
            "+----------+--------+\n",
            "|product_id|count(1)|\n",
            "+----------+--------+\n",
            "|B00BE1UI4M|       1|\n",
            "|B008YDVYKK|       1|\n",
            "|B00451XVMY|       1|\n",
            "|B004G920N6|       1|\n",
            "|B000LSJEHG|       1|\n",
            "|B0012YEKCM|       1|\n",
            "|B00BD4CLYU|       1|\n",
            "|B00LLILH98|       1|\n",
            "|B00US2JLCI|       1|\n",
            "|B000YUOY30|       1|\n",
            "|B00Y9Z1UOC|       1|\n",
            "|B00MVQ383M|       1|\n",
            "|B001E5DYT4|       1|\n",
            "|B008PHOOG6|       1|\n",
            "|B00LNFASKS|       1|\n",
            "|B0002UM13C|       1|\n",
            "|B007IWGDAE|       1|\n",
            "|B00KZKT8BM|       1|\n",
            "|B000FK7G20|       1|\n",
            "|B00EAYDFZO|       1|\n",
            "+----------+--------+\n",
            "only showing top 20 rows\n",
            "\n"
          ]
        }
      ]
    },
    {
      "cell_type": "code",
      "source": [
        "products_df.filter(products_df.product_id == \"B004BUU488\").show(30, truncate=False)"
      ],
      "metadata": {
        "colab": {
          "base_uri": "https://localhost:8080/"
        },
        "id": "Tv0W_IyrX-HY",
        "outputId": "de9c8b47-d095-4779-abcc-fd52edc886ba"
      },
      "execution_count": 43,
      "outputs": [
        {
          "output_type": "stream",
          "name": "stdout",
          "text": [
            "+----------+----------------------------------------------------------------------------------------------------------------------------------------------------------------------------------------------------------------------------------------------------------------------------------------------------------------------------------------------------------------------------------------------------------------------------------------------------------------------------------------------------------------------------------------------------------------------------------------------------------------------------------------------------------------------------------------------------------------------------------------------------------------------------------------------------------------------------------------------------------------------------------------------------------------------------------------------------------------------------------------------------------------------------------------------------------------------------------------------------------------------------------------------------------------------------+\n",
            "|product_id|product_title                                                                                                                                                                                                                                                                                                                                                                                                                                                                                                                                                                                                                                                                                                                                                                                                                                                                                                                                                                                                                                                                                                                                                               |\n",
            "+----------+----------------------------------------------------------------------------------------------------------------------------------------------------------------------------------------------------------------------------------------------------------------------------------------------------------------------------------------------------------------------------------------------------------------------------------------------------------------------------------------------------------------------------------------------------------------------------------------------------------------------------------------------------------------------------------------------------------------------------------------------------------------------------------------------------------------------------------------------------------------------------------------------------------------------------------------------------------------------------------------------------------------------------------------------------------------------------------------------------------------------------------------------------------------------------+\n",
            "|B004BUU488|Miracle Noodle Shirataki Fettucini 7 oz (Pack of 5)\tGrocery\t1\t6\t11\tN\tY\tBad\tThis was smelt of fish and were tough to eat Im was very disappointed in them not at all what I have seen on tv I will not buy them again\t2011-01-08                                                                                                                                                                                                                                                                                                                                                                                                                                                                                                                                                                                                                                                                                                                                                                                                                                                                                                                                             |\n",
            "|B004BUU488|Miracle Noodle Shirataki Fettucini 7 oz (Pack of 5)\tGrocery\t5\t6\t7\tN\tY\tGood alternative to pasta\tI love pasta.  I love everything about pasta except the weight I've gained from pasta.  These noodles are a wonderful alternative to pasta.  You get a similar (not exactly the same) texture and you can use healthy sauces.  The noodles are little chewy/rubbery.  However, when I'm craving pasta and I know I shouldn't have any, the shirataki noodles are the best alternative.  These were a great find for me and my dietary needs/wants.  Note: you MUST rinse them.  I put them in a colander and rinse them for at least 10 minutes.\t2011-04-19                                                                                                                                                                                                                                                                                                                                                                                                                                                                                                                 |\n",
            "|B004BUU488|Miracle Noodle Shirataki Fettucini 7 oz (Pack of 5)\tGrocery\t5\t7\t8\tN\tN\tI love them!\tI love em!<br />I just ate my first batch. I rinsed several times (they did smell) then boiled in Not-Chick'n golden broth (with other spices) for one minute full boil (took 2 minutes to start boiling again so 3 total). Next I'm going to try them with pasta sauce. This are GREAT!!!! Try them!\t2011-05-12                                                                                                                                                                                                                                                                                                                                                                                                                                                                                                                                                                                                                                                                                                                                                                         |\n",
            "|B004BUU488|Miracle Noodle Shirataki Fettucini 7 oz (Pack of 5)\tGrocery\t5\t0\t0\tN\tY\tGreat for diets\tIf you crave carb-y things on a low carb diet, look no further- I've made carbonara, pad Thai and other such noodle dishes with this (as well as rice dishes with the same brand's miracle rice.) Everything always comes out great, everyone always loves it- and yes, it's a little different, but really, it sates you so well when you're trying to stay on track but want to eat &#34;real&#34; food and not just salads :)\t2014-02-20                                                                                                                                                                                                                                                                                                                                                                                                                                                                                                                                                                                                                                           |\n",
            "|B004BUU488|Miracle Noodle Shirataki Fettucini 7 oz (Pack of 5)\tGrocery\t4\t1\t1\tN\tY\tMiracle noodles\tThey are great for the low carb diet, they are easy to cook with any sauce and absorbs all the flavors you toss in with the noodles.\t2012-03-27                                                                                                                                                                                                                                                                                                                                                                                                                                                                                                                                                                                                                                                                                                                                                                                                                                                                                                                                       |\n",
            "|B004BUU488|Miracle Noodle Shirataki Fettucini 7 oz (Pack of 5)\tGrocery\t5\t7\t8\tN\tN\tFilling!\tThis product is a lifesaver for us! We are on a strict form of the HCG diet and added these noodles to our maintenance phase. We missed pasta and it is a great alternative. I added meat and tomato sauce and found it very filling! I recommend these to others on the diet, or those who have gluten allergies. Remember to rinse, boil one minute and pat dry before using. You will notice a fishy smell when you open the package, but it goes away when you prepare them. Thank you for a great product...I just ordered the variety package and will make some more recipes with seafood and veggies!\t2011-04-05                                                                                                                                                                                                                                                                                                                                                                                                                                                                     |\n",
            "|B004BUU488|\"Miracle Noodle Shirataki Fettucini 7 oz (Pack of 5)\tGrocery\t5\t12\t13\tN\tY\tSome things you should know!\tI didn't realize these packages are full of water (didn't read enough info apparently). It is best to cut a corner off and drain all the water out over a screen of some type. I warn you, the water smells a bit funny. However, that smell does NOT translate to the noodle when in the meal so don't throw it away. The noodles are really really long and don't break as easy as normal pasta in your mouth so it is best to cut them up with a pair of kitchen scissors (i made them about 4\\\" or less). The package says two servings and I didn't think that would be correct when holding a package in my hand. However, the noodles really have a lot of substance and it is definitely two servings when you add other stuff. Not what I expected (thought I would get a package of dry noodles that had more servings) but they are great and I love them! What a relief to get a good noodle for soups, Italian dishes, and stir-fry without any carbs or calories. I just wish I could get these every month on a subscription like with other groceries.|\n",
            "|B004BUU488|Miracle Noodle Shirataki Fettucini 7 oz (Pack of 5)\tGrocery\t5\t2\t2\tN\tY\tMiracle Noodle\tThese noodles are awesome.  0 calories and easy to cook with.  They take the flavor of whatever sauce you cook them with.  I used them instead of spaghetti.  Yummy!\t2011-06-01                                                                                                                                                                                                                                                                                                                                                                                                                                                                                                                                                                                                                                                                                                                                                                                                                                                                                                        |\n",
            "|B004BUU488|Miracle Noodle Shirataki Fettucini 7 oz (Pack of 5)\tGrocery\t4\t0\t0\tN\tY\tVersatile, calorie free, good product.\tI truly like these noodles because they are filling, take on the flavor of whatever you cook them in or add to them, have zero net carbs and practically zero calories. As a diet product, they are a dream come true. Even if you are not on a diet, they are a much better health choice than white flour noodles; they do not spike your blood sugar as flour pasta does, and they add plenty of fiber to your meal. I have put these in home-made soups, used them to make PadThai, used with marinara sauce, etc. They are chewier / firmer than flour pasta, but if you like pasta al dente you will love these.\t2013-02-21                                                                                                                                                                                                                                                                                                                                                                                                                              |\n",
            "|B004BUU488|Miracle Noodle Shirataki Fettucini 7 oz (Pack of 5)\tGrocery\t1\t5\t6\tN\tY\tMiracle Noodle Shirataki Fettucini\tWy wife saw the ad for this product and believed it was good,so she ordered the pack of five.  It is totally disgusting.  It is like eating SLIME.  It is slippery and gives you a nautious feeling when trying to chew and swallow it.\t2011-12-29                                                                                                                                                                                                                                                                                                                                                                                                                                                                                                                                                                                                                                                                                                                                                                                                                 |\n",
            "|B004BUU488|\"Miracle Noodle Shirataki Fettucini 7 oz (Pack of 5)\tGrocery\t5\t5\t6\tN\tN\tGreat for HCG!\tWhile it is true that these stink right out of the bag, the smell goes away with a rinse and they are great after! We use them on the HCG diet - mostly with chicken and shrimp. They take on the flavor of  your dish, so for us it has been Old Bay Seasoning (or a similar alternative), Garlic and spices and the chicken. We affectionately refer to them as \\\"rubber noodles\\\\\" but not because they are rubbery, as I might have thought. Just because they are more stout out of the water than run of the mill noodles and are really long! The kids, which are both still pretty small, really like them! They haven't figured out that they're not the usual whole wheat pasta we normally fix. :) And because they take on the flavor of the dish, it isn't hard to make something they won't eat. Great find and excellent choice for anyone on a diet or wanting to make a healthy alternative. A little more expensive than brand x in the stores, but worth it, in my opinion, for better health.                                                                     |\n",
            "|B004BUU488|Miracle Noodle Shirataki Fettucini 7 oz (Pack of 5)\tGrocery\t4\t7\t7\tN\tY\tMiracle Noodles are great!\tI would highly recommend this product be used in any Asian dish.  Love that I can have this on my diet.  Personally wouldn't recommend as a replacement for Italian pastas.\t2011-04-09                                                                                                                                                                                                                                                                                                                                                                                                                                                                                                                                                                                                                                                                                                                                                                                                                                                                                     |\n",
            "|B004BUU488|Miracle Noodle Shirataki Fettucini 7 oz (Pack of 5)\tGrocery\t1\t1\t1\tN\tY\tEEWWW\tI bought this hoping to help me lose weight but chewing it was like chewing on rubber worms. Good luck!\t2013-01-26                                                                                                                                                                                                                                                                                                                                                                                                                                                                                                                                                                                                                                                                                                                                                                                                                                                                                                                                                                              |\n",
            "|B004BUU488|Miracle Noodle Shirataki Fettucini 7 oz (Pack of 5)\tGrocery\t1\t6\t9\tN\tY\tLike Eating a Tapeworm\tLike others have said, I really wanted to like these.  While I didn't expect anything approximating true noodles, I was not prepared for these.   This is only a noodle (or fettucine in this case) insofar as the shape is the same.  But that's where the similarity ends.   This is a translucent slimy tapeworm-resembling product that does not remotely resemble food.  I tried it with spaghetti sauce and cheese and the only thing that made it edible was mixing it with true pasta.  But of course that defeats the purpose of the zero calorie angle. While I was thinking perhaps this could act as a filler or stretcher for pasta to lessen the calories, I have to say it is not worth it.  I rather just eat the one or two forkfuls of real pasta than mix it with this.      P.S.- You may want to put on a DVD of Fear Factor to give you courage to eat this-  or just that old Charlie Chaplin movie where he eats his shoe.\t2011-05-12                                                                                                                  |\n",
            "|B004BUU488|Miracle Noodle Shirataki Fettucini 7 oz (Pack of 5)\tGrocery\t5\t15\t15\tN\tN\tThe greatest addition to our meals\tMy husband and I have these noodles everyday. I can create easy meals with them. Love to stir fry onions, garlic, fresh tomatoes and add seasonings , taco sauce or salsa , chili powder, ginger all in water. Then maybe some meat 3.5 ozs . Can slice frozen chicken breasts in processor then stir fry till done. Just a few minutes then rinse noodles in strainer and add to stir fry when everything else is done. You have a plate full of food and most calories are from the meat. Very satisfying. My husband has lost over 40-50 lbs and I have lost over 30 lbs. This is one addition to the rest of our lives. We can make this meal in less time then going for fast food. And even better make double portions for lunch the next day.\t2011-02-08                                                                                                                                                                                                                                                                                                 |\n",
            "|B004BUU488|Miracle Noodle Shirataki Fettucini 7 oz (Pack of 5)\tGrocery\t1\t8\t14\tN\tN\tbody cannot tolerate glucomannan\tLearned after eating these I have a food intolerance to the konju root/glucomannan.  Purchased to help lose weight.  Got opposite affect.  Major water retention throughout  my whole body.  After several months of eating noodles, 5# weight gain.  Stopped eating  the noodles and dropped 5# in 4 days.  No complaint about the flavor or texture.\t2011-02-15                                                                                                                                                                                                                                                                                                                                                                                                                                                                                                                                                                                                                                                                                                   |\n",
            "|B004BUU488|Miracle Noodle Shirataki Fettucini 7 oz (Pack of 5)\tGrocery\t5\t25\t25\tN\tY\tWONDERFUL HEALTHY ALTERNATIVE!!\tYes, these do smell fishy straight out of the package but you just need to rinse them for a few minutes and the smell will go away. Also, whatever sauce you use will soak into the noodle and you will not taste any fishiness. I make a very tasty asian dish with these noodles, some cut up chicken breast and Liquid Aminos as the sauce and the total calories is about 100 for a serving! You cannot beat that! Not only that, these noodles will make you feel full afterwards. Definitely worth trying - keep an open mind & prepare them right and you will NOT be disappointed!\t2011-01-17                                                                                                                                                                                                                                                                                                                                                                                                                                                               |\n",
            "|B004BUU488|Miracle Noodle Shirataki Fettucini 7 oz (Pack of 5)\tGrocery\t5\t4\t4\tN\tN\tLove them!\tIf you are expecting them to taste like regular pasta then yes you may be disappointed. They don't have much of a taste at all but they do absorb flavor pretty well and they are filling too! I have heard some people say they have a fish smell but I did not experience that. There is an odor when you first open the bag that is not so pleasant but I didn't think it was fishy. Once you rinse them off the odor is gone. I saute some garlic and peppers with a little olive oil and red wine vinegar and add the noodles in. They soak up the yumminess. I have also tried them with soy sauce and some Asian stir fry veggies... Delicious and satisfying!! I am definitely a fan =)\t2011-06-17                                                                                                                                                                                                                                                                                                                                                                                 |\n",
            "|B004BUU488|Miracle Noodle Shirataki Fettucini 7 oz (Pack of 5)\tGrocery\t4\t10\t10\tN\tY\t50-50\tMade a Pasta Puttanesca last night to pour over the Miracle Noodles that I recently bought. They aren't a wheat noodle but they are a passable substitute.  At least for me.  My wife didn't care for them and I will be finishing up the remaining packages on my own.  The texture is similar to a rice noodle but they have almost no flavor of their own.  The sauce didn't stick to the noodles as nicely as it does with regular pasta and because of this, the finished dish didn't look all that appetizing.<br /><br />I will try a red sauce next time in hopes that it will make for a better presentation. I give it a thumbs up for anyone trying to cut carbs.  My wife a definite thumbs down based on appearance and texture.\t2011-02-28                                                                                                                                                                                                                                                                                                                                      |\n",
            "|B004BUU488|Miracle Noodle Shirataki Fettucini 7 oz (Pack of 5)\tGrocery\t5\t0\t0\tN\tY\tTastes great\tUsed it with my homemade marina sauce that has no sugar so this was a very filling meal.  Used a bag well after the expiration date and didn't notice a difference in the taste.\t2013-04-28                                                                                                                                                                                                                                                                                                                                                                                                                                                                                                                                                                                                                                                                                                                                                                                                                                                                                              |\n",
            "|B004BUU488|Miracle Noodle Shirataki Fettucini 7 oz (Pack of 5)\tGrocery\t1\t6\t6\tN\tY\tInedible\tI tried the angel hair and the fettucini.  They are well packaged, and no doubt a fine version of shirataki noodles.  I am a pasta lover, and no matter how many suggestions I tried, nothing was appetizing.  The texture is odd, and off-putting.  I read the other reviews and was persuaded to try it.  I am writing to warm others that it is not remotely like regular noodles.\t2011-06-14                                                                                                                                                                                                                                                                                                                                                                                                                                                                                                                                                                                                                                                                                             |\n",
            "|B004BUU488|\"Miracle Noodle Shirataki Fettucini 7 oz (Pack of 5)\tGrocery\t2\t6\t7\tN\tN\tWEIRD!\tWow, wasn't expecting this! The noodles and rice products were like slippery little worms and fish eggs respectively. The only product I related it to is the noodles used in a Hawaiian soup called \\\"Long Noodle\\\\\". They were slippery and unmanageable like the noodles in this pack. Now I used to eat that soup quite often so my appetite is much more expansive than my wife who needs this product for diabetic alternatives. She gave them away immediately!                                                                                                                                                                                                                                                                                                                                                                                                                                                                                                                                                                                                                        |\n",
            "|B004BUU488|Miracle Noodle Shirataki Fettucini 7 oz (Pack of 5)\tGrocery\t1\t1\t1\tN\tY\tDidn't like the texture of these\tThese were recommended as a low carb way to have pasta, but the texture is rubbery to me and I just couldn't get past it. :-(\t2014-05-26                                                                                                                                                                                                                                                                                                                                                                                                                                                                                                                                                                                                                                                                                                                                                                                                                                                                                                                             |\n",
            "|B004BUU488|Miracle Noodle Shirataki Fettucini 7 oz (Pack of 5)\tGrocery\t5\t0\t0\tN\tY\tPerfect for my needs\tI was craving home made chicken noodle soup but couldn't have the grain noodles.  Miracle Noodle solved the problem in a very delicious way.  Also great with several of my &#34;Stroganoff&#34; recipes.\t2013-04-13                                                                                                                                                                                                                                                                                                                                                                                                                                                                                                                                                                                                                                                                                                                                                                                                                                                             |\n",
            "|B004BUU488|Miracle Noodle Shirataki Fettucini 7 oz (Pack of 5)\tGrocery\t5\t0\t0\tN\tY\tPasta without the guilt!!\tLove the fact I'm eating pasta, but without the calories! I either just add some spicy marinara sauce or make Mac 'cheese!  Took a little bit getting use to the odor, but once I rinse them off, it's all good!!\t2014-05-07                                                                                                                                                                                                                                                                                                                                                                                                                                                                                                                                                                                                                                                                                                                                                                                                                                                |\n",
            "|B004BUU488|Miracle Noodle Shirataki Fettucini 7 oz (Pack of 5)\tGrocery\t1\t6\t7\tN\tY\tSlimmy\tI had great hopes for these noodles. I prepared the noodles as directed on the package.  I thought these would be great with spaghetti sauce.  Was I ever wrong! They were so slimy I gagged. I won't try them again.  The other 4 packages are to be thrown out. A miracle noodle it isn't.\t2011-02-02                                                                                                                                                                                                                                                                                                                                                                                                                                                                                                                                                                                                                                                                                                                                                                                        |\n",
            "|B004BUU488|Miracle Noodle Shirataki Fettucini 7 oz (Pack of 5)\tGrocery\t1\t7\t8\tN\tN\tTough to chew\tThis product was very strange. It says it is a plant root but why the fish smell? It was extremely difficult to chew through so some went down my throat whole. If you wake up at 1am feeling nauseous don't be surprised. I did not like this product.\t2011-01-31                                                                                                                                                                                                                                                                                                                                                                                                                                                                                                                                                                                                                                                                                                                                                                                                                      |\n",
            "+----------+----------------------------------------------------------------------------------------------------------------------------------------------------------------------------------------------------------------------------------------------------------------------------------------------------------------------------------------------------------------------------------------------------------------------------------------------------------------------------------------------------------------------------------------------------------------------------------------------------------------------------------------------------------------------------------------------------------------------------------------------------------------------------------------------------------------------------------------------------------------------------------------------------------------------------------------------------------------------------------------------------------------------------------------------------------------------------------------------------------------------------------------------------------------------------+\n",
            "\n"
          ]
        }
      ]
    },
    {
      "cell_type": "markdown",
      "metadata": {
        "id": "jITZhLkmY--J"
      },
      "source": [
        "### Connect to the AWS RDS instance and write each DataFrame to its table. "
      ]
    },
    {
      "cell_type": "code",
      "metadata": {
        "id": "7jiUvs1aY--L",
        "colab": {
          "base_uri": "https://localhost:8080/"
        },
        "outputId": "7bbc896e-675f-4627-e8cf-85436dfa2b3b"
      },
      "source": [
        "# Store environmental variable\n",
        "from getpass import getpass\n",
        "password = getpass('Enter database password')\n",
        "# Configure settings for RDS\n",
        "mode = \"append\"\n",
        "jdbc_url=\"jdbc:postgresql://<endpoint>.us-east-2.rds.amazonaws.com:5432/<database name>\"\n",
        "config = {\"user\":\"postgres\", \n",
        "          \"password\": password, \n",
        "          \"driver\":\"org.postgresql.Driver\"}"
      ],
      "execution_count": 14,
      "outputs": [
        {
          "name": "stdout",
          "output_type": "stream",
          "text": [
            "Enter database password··········\n"
          ]
        }
      ]
    },
    {
      "cell_type": "code",
      "metadata": {
        "id": "T2zgZ-aKY--Q"
      },
      "source": [
        "# Write review_id_df to table in RDS\n",
        "review_id_df.write.jdbc(url=jdbc_url, table='review_id_table', mode=mode, properties=config)"
      ],
      "execution_count": 15,
      "outputs": []
    },
    {
      "cell_type": "code",
      "metadata": {
        "id": "1m3yzn-LY--U"
      },
      "source": [
        "# Write products_df to table in RDS\n",
        "# about 3 min\n",
        "products_df.write.jdbc(url=jdbc_url, table='products_table', mode=mode, properties=config)"
      ],
      "execution_count": 47,
      "outputs": []
    },
    {
      "cell_type": "code",
      "metadata": {
        "id": "KbXri15fY--Z"
      },
      "source": [
        "# Write customers_df to table in RDS\n",
        "# 5 min 14 s\n",
        "customers_df.write.jdbc(url=jdbc_url, table='customers_table', mode=mode, properties=config)"
      ],
      "execution_count": 48,
      "outputs": []
    },
    {
      "cell_type": "code",
      "metadata": {
        "id": "XdQknSHLY--e"
      },
      "source": [
        "# Write vine_df to table in RDS\n",
        "# 11 minutes\n",
        "vine_df.write.jdbc(url=jdbc_url, table='vine_table', mode=mode, properties=config)"
      ],
      "execution_count": 49,
      "outputs": []
    },
    {
      "cell_type": "code",
      "metadata": {
        "id": "Exuo6ebUsCqW"
      },
      "source": [
        ""
      ],
      "execution_count": null,
      "outputs": []
    }
  ]
}