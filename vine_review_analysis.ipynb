{
  "nbformat": 4,
  "nbformat_minor": 0,
  "metadata": {
    "colab": {
      "name": "vine_review_analysis.ipynb",
      "provenance": []
    },
    "kernelspec": {
      "name": "python3",
      "display_name": "Python 3"
    },
    "language_info": {
      "name": "python"
    }
  },
  "cells": [
    {
      "cell_type": "code",
      "execution_count": 41,
      "metadata": {
        "colab": {
          "base_uri": "https://localhost:8080/"
        },
        "id": "xzK0YGGbx8Om",
        "outputId": "c0e2c055-51b8-4c2c-dd84-cd9d89f51bc6"
      },
      "outputs": [
        {
          "output_type": "stream",
          "name": "stdout",
          "text": [
            "\r0% [Working]\r            \rHit:1 http://ppa.launchpad.net/c2d4u.team/c2d4u4.0+/ubuntu bionic InRelease\n",
            "\r0% [Connecting to archive.ubuntu.com (91.189.91.38)] [Waiting for headers] [Con\r                                                                               \rGet:2 http://security.ubuntu.com/ubuntu bionic-security InRelease [88.7 kB]\n",
            "\r                                                                               \rHit:3 http://ppa.launchpad.net/cran/libgit2/ubuntu bionic InRelease\n",
            "Hit:4 http://ppa.launchpad.net/deadsnakes/ppa/ubuntu bionic InRelease\n",
            "Hit:5 http://ppa.launchpad.net/graphics-drivers/ppa/ubuntu bionic InRelease\n",
            "Hit:6 https://cloud.r-project.org/bin/linux/ubuntu bionic-cran40/ InRelease\n",
            "Ign:7 https://developer.download.nvidia.com/compute/cuda/repos/ubuntu1804/x86_64  InRelease\n",
            "Hit:8 http://archive.ubuntu.com/ubuntu bionic InRelease\n",
            "Ign:9 https://developer.download.nvidia.com/compute/machine-learning/repos/ubuntu1804/x86_64  InRelease\n",
            "Hit:10 https://developer.download.nvidia.com/compute/cuda/repos/ubuntu1804/x86_64  Release\n",
            "Hit:11 https://developer.download.nvidia.com/compute/machine-learning/repos/ubuntu1804/x86_64  Release\n",
            "Get:12 http://archive.ubuntu.com/ubuntu bionic-updates InRelease [88.7 kB]\n",
            "Get:13 http://archive.ubuntu.com/ubuntu bionic-backports InRelease [74.6 kB]\n",
            "Fetched 252 kB in 3s (98.7 kB/s)\n",
            "Reading package lists... Done\n"
          ]
        }
      ],
      "source": [
        "import os\n",
        "# Find the latest version of spark 3.0 from http://www.apache.org/dist/spark/ and enter as the spark version\n",
        "# For example:\n",
        "# spark_version = 'spark-3.0.3'\n",
        "spark_version = 'spark-3.0.3'\n",
        "os.environ['SPARK_VERSION']=spark_version\n",
        "\n",
        "# Install Spark and Java\n",
        "!apt-get update\n",
        "!apt-get install openjdk-11-jdk-headless -qq > /dev/null\n",
        "!wget -q http://www.apache.org/dist/spark/$SPARK_VERSION/$SPARK_VERSION-bin-hadoop2.7.tgz\n",
        "!tar xf $SPARK_VERSION-bin-hadoop2.7.tgz\n",
        "!pip install -q findspark\n",
        "\n",
        "# Set Environment Variables\n",
        "import os\n",
        "os.environ[\"JAVA_HOME\"] = \"/usr/lib/jvm/java-11-openjdk-amd64\"\n",
        "os.environ[\"SPARK_HOME\"] = f\"/content/{spark_version}-bin-hadoop2.7\"\n",
        "\n",
        "# Start a SparkSession\n",
        "import findspark\n",
        "findspark.init()"
      ]
    },
    {
      "cell_type": "code",
      "source": [
        "# Download the Postgres driver that will allow Spark to interact with Postgres.\n",
        "!wget https://jdbc.postgresql.org/download/postgresql-42.2.16.jar"
      ],
      "metadata": {
        "colab": {
          "base_uri": "https://localhost:8080/"
        },
        "id": "PozvbEa9yPHC",
        "outputId": "73cc1c5a-330f-4c2b-cb9a-2abdaa0cabdc"
      },
      "execution_count": 42,
      "outputs": [
        {
          "output_type": "stream",
          "name": "stdout",
          "text": [
            "--2022-04-06 23:24:22--  https://jdbc.postgresql.org/download/postgresql-42.2.16.jar\n",
            "Resolving jdbc.postgresql.org (jdbc.postgresql.org)... 72.32.157.228, 2001:4800:3e1:1::228\n",
            "Connecting to jdbc.postgresql.org (jdbc.postgresql.org)|72.32.157.228|:443... connected.\n",
            "HTTP request sent, awaiting response... 200 OK\n",
            "Length: 1002883 (979K) [application/java-archive]\n",
            "Saving to: ‘postgresql-42.2.16.jar.1’\n",
            "\n",
            "postgresql-42.2.16. 100%[===================>] 979.38K  1.69MB/s    in 0.6s    \n",
            "\n",
            "2022-04-06 23:24:23 (1.69 MB/s) - ‘postgresql-42.2.16.jar.1’ saved [1002883/1002883]\n",
            "\n"
          ]
        }
      ]
    },
    {
      "cell_type": "code",
      "source": [
        "from pyspark.sql import SparkSession\n",
        "spark = SparkSession.builder.appName(\"M16-Vine-Challenge\").getOrCreate()"
      ],
      "metadata": {
        "id": "6Y_2r48xyQ5B"
      },
      "execution_count": 43,
      "outputs": []
    },
    {
      "cell_type": "code",
      "source": [
        "from pyspark import SparkFiles\n",
        "url = \"https://s3.amazonaws.com/amazon-reviews-pds/tsv/amazon_reviews_us_Grocery_v1_00.tsv.gz\"\n",
        "spark.sparkContext.addFile(url)\n",
        "df = spark.read.option(\"encoding\", \"UTF-8\").csv(SparkFiles.get(\"\"), sep=\"\\t\", header=True, inferSchema=True)\n",
        "df.show()"
      ],
      "metadata": {
        "colab": {
          "base_uri": "https://localhost:8080/"
        },
        "id": "UZxgvbMfyQ-i",
        "outputId": "f89aafdb-a6b8-4785-f60e-d1a810566749"
      },
      "execution_count": 44,
      "outputs": [
        {
          "output_type": "stream",
          "name": "stdout",
          "text": [
            "+-----------+-----------+--------------+----------+--------------+--------------------+----------------+-----------+-------------+-----------+----+-----------------+--------------------+--------------------+-----------+\n",
            "|marketplace|customer_id|     review_id|product_id|product_parent|       product_title|product_category|star_rating|helpful_votes|total_votes|vine|verified_purchase|     review_headline|         review_body|review_date|\n",
            "+-----------+-----------+--------------+----------+--------------+--------------------+----------------+-----------+-------------+-----------+----+-----------------+--------------------+--------------------+-----------+\n",
            "|         US|   42521656|R26MV8D0KG6QI6|B000SAQCWC|     159713740|The Cravings Plac...|         Grocery|          5|            0|          0|   N|                Y|Using these for y...|As a family aller...| 2015-08-31|\n",
            "|         US|   12049833|R1OF8GP57AQ1A0|B00509LVIQ|     138680402|Mauna Loa Macadam...|         Grocery|          5|            0|          0|   N|                Y|           Wonderful|My favorite nut. ...| 2015-08-31|\n",
            "|         US|     107642|R3VDC1QB6MC4ZZ|B00KHXESLC|     252021703|Organic Matcha Gr...|         Grocery|          5|            0|          0|   N|                N|          Five Stars|This green tea ta...| 2015-08-31|\n",
            "|         US|    6042304|R12FA3DCF8F9ER|B000F8JIIC|     752728342|15oz Raspberry Ly...|         Grocery|          5|            0|          0|   N|                Y|          Five Stars|I love Melissa's ...| 2015-08-31|\n",
            "|         US|   18123821| RTWHVNV6X4CNJ|B004ZWR9RQ|     552138758|Stride Spark Kine...|         Grocery|          5|            0|          0|   N|                Y|          Five Stars|                good| 2015-08-31|\n",
            "|         US|   23649464| RIG9AWFOGRDVO|B00AL6QBZ6|     681475449|Herr's Popcorn Ho...|         Grocery|          2|            1|          1|   N|                Y|           Not Happy|The popcorn was s...| 2015-08-31|\n",
            "|         US|   32778285|R1S1XSG4ZCHDGS|B00BCNSTRA|     578681693|Larabar uber, 1.4...|         Grocery|          5|            1|          1|   N|                Y|          Five Stars|Love these bars, ...| 2015-08-31|\n",
            "|         US|   46612941| RB15NBVY5ELVW|B0089MM2BG|     350968436|Shirakiku Soba No...|         Grocery|          5|            2|          2|   N|                Y|          Five Stars|Love the taste bu...| 2015-08-31|\n",
            "|         US|   31525399| R56358YM1ZJ7I|B00Y1C9770|     729982780|Jif Chocolate Nut...|         Grocery|          5|            0|          0|   N|                N|      Great tasting!|I'm a member of t...| 2015-08-31|\n",
            "|         US|   19624355|R1ODXB3C9UP3NL|B00J074W94|       2499702|Orgain Organic Pl...|         Grocery|          1|            1|          3|   N|                N|Disgusting now an...|Used to be a dece...| 2015-08-31|\n",
            "|         US|   31910375|R155ZMVLD5C9BP|B0001VKKOO|     189938205|Bragg - All Natur...|         Grocery|          4|            3|          4|   N|                Y|If you like soy s...|I cannot tell the...| 2015-08-31|\n",
            "|         US|   12816533|R2IXW43PUNYM0G|B007TGH4CK|     398128262|Wholesome Sweeten...|         Grocery|          4|            1|          1|   N|                Y|          Four Stars|Good flavor and s...| 2015-08-31|\n",
            "|         US|   23208852|R3LYEG1QCK2BG0|B002HMN6SC|      18057786|Kadoya Pure Sesam...|         Grocery|          5|            0|          0|   N|                Y|          Five Stars|Great to use in r...| 2015-08-31|\n",
            "|         US|   17348415|R20LREICPM3YH0|B004NRHAZO|     595020880|Nishiki Premium B...|         Grocery|          5|            0|          0|   N|                Y|          Five Stars|It's rice. Have e...| 2015-08-31|\n",
            "|         US|   46763945| RHA5COCZDVB13|B00V7LJIG8|     173088090|Everly Passion Fr...|         Grocery|          5|            0|          0|   N|                Y|          Five Stars|Very good tasting...| 2015-08-31|\n",
            "|         US|     961747| RT9BGRQANMANE|B0000E2YFI|     120269621|Charms Blue Razzb...|         Grocery|          5|            0|          0|   N|                Y|           Excellent|They were perfect...| 2015-08-31|\n",
            "|         US|   16888081| ROD1TU5JCS7JQ|B00VK5SQOQ|     204992966|Food Should Taste...|         Grocery|          5|            0|          0|   N|                N|              YUMMY!|Wow, these are so...| 2015-08-31|\n",
            "|         US|   22765168|R3T6TTD2IN0EFZ|B00XDXMLL2|     971154239|Skippy Creamy Pea...|         Grocery|          1|            4|          4|   N|                N|1 Out Of 5 Of My ...|I bought this fro...| 2015-08-31|\n",
            "|         US|   36328996|R1OCUGZ444NKV3|B00MN4KX3A|     787182505|Celestial Seasoni...|         Grocery|          5|            5|          5|   N|                Y|delicious tea and...|I love this tea, ...| 2015-08-31|\n",
            "|         US|   27092724| RCQQGWTC4J4TZ|B004NTCE1M|     653570135|Nutiva Organic Vi...|         Grocery|          4|            0|          0|   N|                Y|    Best coconut oil|I have used servo...| 2015-08-31|\n",
            "+-----------+-----------+--------------+----------+--------------+--------------------+----------------+-----------+-------------+-----------+----+-----------------+--------------------+--------------------+-----------+\n",
            "only showing top 20 rows\n",
            "\n"
          ]
        }
      ]
    },
    {
      "cell_type": "code",
      "source": [
        "# Create the vine DataFrame\n",
        "vine_df = df.select(['review_id', 'star_rating', 'helpful_votes', 'total_votes', 'vine', 'verified_purchase'])"
      ],
      "metadata": {
        "id": "TecjZpuby40m"
      },
      "execution_count": 45,
      "outputs": []
    },
    {
      "cell_type": "code",
      "source": [
        "# Filter the dataframe to get only reviews with 20 or more votes\n",
        "filtered_df = vine_df.filter(\"total_votes >= 20\")\n",
        "filtered_df.show()"
      ],
      "metadata": {
        "colab": {
          "base_uri": "https://localhost:8080/"
        },
        "id": "wqsWofiyzJKS",
        "outputId": "d3ff69d2-8a65-427a-d3d6-5925c6de63c7"
      },
      "execution_count": 46,
      "outputs": [
        {
          "output_type": "stream",
          "name": "stdout",
          "text": [
            "+--------------+-----------+-------------+-----------+----+-----------------+\n",
            "|     review_id|star_rating|helpful_votes|total_votes|vine|verified_purchase|\n",
            "+--------------+-----------+-------------+-----------+----+-----------------+\n",
            "|R1OAZUG90XPU2U|          5|          250|        274|   N|                Y|\n",
            "|R23VPTUJ8I8NR5|          1|           28|         30|   N|                Y|\n",
            "|R33VIWRD2X5IA9|          1|            0|         20|   N|                Y|\n",
            "| R6SRJFJ5YH4UM|          5|           23|         26|   N|                Y|\n",
            "|R3DOS07BIMP4DJ|          2|           32|         42|   N|                N|\n",
            "|R26UFXLLQ2N0CR|          1|            0|         20|   N|                Y|\n",
            "|R30PGWX4HN1CFG|          1|           85|         95|   N|                Y|\n",
            "|R2XASGYIENUHQO|          5|           28|         32|   N|                Y|\n",
            "|R34UQPQCTSKQK9|          5|           23|         26|   N|                Y|\n",
            "|R2M6WNM2OZZHKS|          1|           20|         22|   N|                N|\n",
            "| RO6JNMUJDE1LP|          5|           37|         50|   N|                N|\n",
            "|R1WNL4OIMSKDBR|          5|           35|         36|   N|                Y|\n",
            "| RDGWZ3U8LQZE6|          2|           48|         54|   N|                Y|\n",
            "|R3HFIKVOUDHT4I|          3|           64|         67|   N|                N|\n",
            "| R22M0N2OZSICN|          5|           21|         23|   N|                Y|\n",
            "|R1E43139TRHB5T|          5|           22|         22|   N|                Y|\n",
            "|R1L40ST6C2UJHK|          5|          262|        272|   N|                Y|\n",
            "|R1XISUX6DDSXKZ|          5|           37|         41|   N|                Y|\n",
            "|R35MWO8UIXOA37|          1|           20|         22|   N|                Y|\n",
            "|R1RZ0G02ASP7SF|          2|           35|         43|   N|                Y|\n",
            "+--------------+-----------+-------------+-----------+----+-----------------+\n",
            "only showing top 20 rows\n",
            "\n"
          ]
        }
      ]
    },
    {
      "cell_type": "code",
      "source": [
        "# Find only reviews where more than 50 percent of the votes were for helpful\n",
        "helpful_df = filtered_df.filter(\"helpful_votes / total_votes >= 0.5\")\n",
        "helpful_df = helpful_df.withColumn(\"vote_percentage\", helpful_df.helpful_votes / helpful_df.total_votes)\n",
        "helpful_df.show()"
      ],
      "metadata": {
        "colab": {
          "base_uri": "https://localhost:8080/"
        },
        "id": "6mF0yxAmzmAy",
        "outputId": "691e037b-d792-4851-91e6-7cb536ab28d2"
      },
      "execution_count": 47,
      "outputs": [
        {
          "output_type": "stream",
          "name": "stdout",
          "text": [
            "+--------------+-----------+-------------+-----------+----+-----------------+------------------+\n",
            "|     review_id|star_rating|helpful_votes|total_votes|vine|verified_purchase|   vote_percentage|\n",
            "+--------------+-----------+-------------+-----------+----+-----------------+------------------+\n",
            "|R1OAZUG90XPU2U|          5|          250|        274|   N|                Y|0.9124087591240876|\n",
            "|R23VPTUJ8I8NR5|          1|           28|         30|   N|                Y|0.9333333333333333|\n",
            "| R6SRJFJ5YH4UM|          5|           23|         26|   N|                Y|0.8846153846153846|\n",
            "|R3DOS07BIMP4DJ|          2|           32|         42|   N|                N|0.7619047619047619|\n",
            "|R30PGWX4HN1CFG|          1|           85|         95|   N|                Y|0.8947368421052632|\n",
            "|R2XASGYIENUHQO|          5|           28|         32|   N|                Y|             0.875|\n",
            "|R34UQPQCTSKQK9|          5|           23|         26|   N|                Y|0.8846153846153846|\n",
            "|R2M6WNM2OZZHKS|          1|           20|         22|   N|                N|0.9090909090909091|\n",
            "| RO6JNMUJDE1LP|          5|           37|         50|   N|                N|              0.74|\n",
            "|R1WNL4OIMSKDBR|          5|           35|         36|   N|                Y|0.9722222222222222|\n",
            "| RDGWZ3U8LQZE6|          2|           48|         54|   N|                Y|0.8888888888888888|\n",
            "|R3HFIKVOUDHT4I|          3|           64|         67|   N|                N|0.9552238805970149|\n",
            "| R22M0N2OZSICN|          5|           21|         23|   N|                Y|0.9130434782608695|\n",
            "|R1E43139TRHB5T|          5|           22|         22|   N|                Y|               1.0|\n",
            "|R1L40ST6C2UJHK|          5|          262|        272|   N|                Y|0.9632352941176471|\n",
            "|R1XISUX6DDSXKZ|          5|           37|         41|   N|                Y|0.9024390243902439|\n",
            "|R35MWO8UIXOA37|          1|           20|         22|   N|                Y|0.9090909090909091|\n",
            "|R1RZ0G02ASP7SF|          2|           35|         43|   N|                Y| 0.813953488372093|\n",
            "|R10HZ77HAWVJH6|          5|           19|         22|   N|                Y|0.8636363636363636|\n",
            "|R1PI04EDGLLCXV|          5|           25|         28|   N|                Y|0.8928571428571429|\n",
            "+--------------+-----------+-------------+-----------+----+-----------------+------------------+\n",
            "only showing top 20 rows\n",
            "\n"
          ]
        }
      ]
    },
    {
      "cell_type": "code",
      "source": [
        "# Create dataframes for reviews that were a vine and those that were not\n",
        "vine_true_df = helpful_df.filter(\"vine = 'Y'\")\n",
        "vine_false_df = helpful_df.filter(\"vine = 'N'\")\n",
        "\n",
        "vine_true_df.show(10)\n",
        "vine_false_df.show(10)"
      ],
      "metadata": {
        "colab": {
          "base_uri": "https://localhost:8080/"
        },
        "id": "Dp4TSlCY01Yc",
        "outputId": "0bfe2d72-db65-43e2-8d28-aeda72d33039"
      },
      "execution_count": 48,
      "outputs": [
        {
          "output_type": "stream",
          "name": "stdout",
          "text": [
            "+--------------+-----------+-------------+-----------+----+-----------------+------------------+\n",
            "|     review_id|star_rating|helpful_votes|total_votes|vine|verified_purchase|   vote_percentage|\n",
            "+--------------+-----------+-------------+-----------+----+-----------------+------------------+\n",
            "|R3MKO875WGIEBJ|          5|           34|         37|   Y|                N| 0.918918918918919|\n",
            "|R3OPNTK61FQ7MP|          5|           32|         37|   Y|                N|0.8648648648648649|\n",
            "| RMDRU8I773X5U|          4|           22|         25|   Y|                N|              0.88|\n",
            "| RR83RGWFEFZCL|          3|           61|         64|   Y|                N|          0.953125|\n",
            "|R2TMZ7GV8SPIRV|          4|           23|         23|   Y|                N|               1.0|\n",
            "| RX88JLUIFA4Q2|          4|           84|         87|   Y|                Y|0.9655172413793104|\n",
            "| RV3AHTDRHDH7R|          5|          253|        258|   Y|                N|0.9806201550387597|\n",
            "|R13EGJI8C8YJ4Y|          5|           19|         20|   Y|                N|              0.95|\n",
            "| R9SNSQTK4TJOG|          2|           11|         20|   Y|                N|              0.55|\n",
            "|R1A76AK493C8P8|          5|           83|         90|   Y|                N|0.9222222222222223|\n",
            "+--------------+-----------+-------------+-----------+----+-----------------+------------------+\n",
            "only showing top 10 rows\n",
            "\n",
            "+--------------+-----------+-------------+-----------+----+-----------------+------------------+\n",
            "|     review_id|star_rating|helpful_votes|total_votes|vine|verified_purchase|   vote_percentage|\n",
            "+--------------+-----------+-------------+-----------+----+-----------------+------------------+\n",
            "|R1OAZUG90XPU2U|          5|          250|        274|   N|                Y|0.9124087591240876|\n",
            "|R23VPTUJ8I8NR5|          1|           28|         30|   N|                Y|0.9333333333333333|\n",
            "| R6SRJFJ5YH4UM|          5|           23|         26|   N|                Y|0.8846153846153846|\n",
            "|R3DOS07BIMP4DJ|          2|           32|         42|   N|                N|0.7619047619047619|\n",
            "|R30PGWX4HN1CFG|          1|           85|         95|   N|                Y|0.8947368421052632|\n",
            "|R2XASGYIENUHQO|          5|           28|         32|   N|                Y|             0.875|\n",
            "|R34UQPQCTSKQK9|          5|           23|         26|   N|                Y|0.8846153846153846|\n",
            "|R2M6WNM2OZZHKS|          1|           20|         22|   N|                N|0.9090909090909091|\n",
            "| RO6JNMUJDE1LP|          5|           37|         50|   N|                N|              0.74|\n",
            "|R1WNL4OIMSKDBR|          5|           35|         36|   N|                Y|0.9722222222222222|\n",
            "+--------------+-----------+-------------+-----------+----+-----------------+------------------+\n",
            "only showing top 10 rows\n",
            "\n"
          ]
        }
      ]
    },
    {
      "cell_type": "code",
      "source": [
        "# Determine the total number of star ratings for each dataframe\n",
        "\n",
        "# Function for summarizing ratings\n",
        "def rating_summary(df):\n",
        "  summary_df = df.groupBy(\"star_rating\").count().sort(\"star_rating\")\n",
        "  total_ratings = summary_df.agg({'count':'sum'}).collect()[0][\"sum(count)\"]\n",
        "  summary_df = summary_df.withColumn('rating_percent', summary_df['count'] / total_ratings * 100)\n",
        "  print(total_ratings)\n",
        "  return summary_df, total_ratings\n",
        "\n",
        "vine_true_summary, vine_true_total = rating_summary(vine_true_df)\n",
        "vine_false_summary, vine_false_total = rating_summary(vine_false_df)"
      ],
      "metadata": {
        "colab": {
          "base_uri": "https://localhost:8080/"
        },
        "id": "xY0GSEdM1YPy",
        "outputId": "b36fd42c-a5a1-4104-eba4-2aaf18605f09"
      },
      "execution_count": 49,
      "outputs": [
        {
          "output_type": "stream",
          "name": "stdout",
          "text": [
            "61\n",
            "28287\n"
          ]
        }
      ]
    },
    {
      "cell_type": "code",
      "source": [
        "vine_true_summary.show()\n",
        "vine_false_summary.show()"
      ],
      "metadata": {
        "colab": {
          "base_uri": "https://localhost:8080/"
        },
        "id": "yfSzmwWi7o27",
        "outputId": "a09d213a-b9e9-4fa9-b028-31cb85f5fb64"
      },
      "execution_count": 50,
      "outputs": [
        {
          "output_type": "stream",
          "name": "stdout",
          "text": [
            "+-----------+-----+------------------+\n",
            "|star_rating|count|    rating_percent|\n",
            "+-----------+-----+------------------+\n",
            "|          1|    7|11.475409836065573|\n",
            "|          2|    6| 9.836065573770492|\n",
            "|          3|   11|  18.0327868852459|\n",
            "|          4|   17| 27.86885245901639|\n",
            "|          5|   20| 32.78688524590164|\n",
            "+-----------+-----+------------------+\n",
            "\n",
            "+-----------+-----+------------------+\n",
            "|star_rating|count|    rating_percent|\n",
            "+-----------+-----+------------------+\n",
            "|          1| 6412|  22.6676565206632|\n",
            "|          2| 1655| 5.850744158093824|\n",
            "|          3| 1931| 6.826457383250256|\n",
            "|          4| 2600| 9.191501396401174|\n",
            "|          5|15689|55.463640541591545|\n",
            "+-----------+-----+------------------+\n",
            "\n"
          ]
        }
      ]
    }
  ]
}